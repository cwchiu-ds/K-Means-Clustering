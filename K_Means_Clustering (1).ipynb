{
 "cells": [
  {
   "cell_type": "markdown",
   "metadata": {},
   "source": [
    "#### Carol Chiu\n",
    "#### April 20, 2020\n",
    "# Kmeans Clustering of Plutonium (PU) Isotope Composition"
   ]
  },
  {
   "cell_type": "markdown",
   "metadata": {},
   "source": [
    "#####A power generator  company named RadioacX receives an assignment from NASA and SpaceX in which their recent rover project to Mars needs  a new  energy  supply. RadioacX currently  produces  the most powerful  energy  generators using  a chemical compound called plutonium (PU). The probblem is the device requires  a large amount of PU-239, the most popular isotope  in nuclear  reactions creating energy, and RadioacX is quickly running out of PU-239. However, they have a large supply of Plutonium including other isotopes not currently being used. They need to determine if there is any other isotope of PU is similar to PU-239 so that it could be used as a fuel instead so that they can still create an energy generator for NASA and SpaceX."
   ]
  },
  {
   "cell_type": "code",
   "execution_count": 1,
   "metadata": {},
   "outputs": [
    {
     "name": "stderr",
     "output_type": "stream",
     "text": [
      "\n",
      "Bad key \"text.kerning_factor\" on line 4 in\n",
      "/anaconda3/lib/python3.7/site-packages/matplotlib/mpl-data/stylelib/_classic_test_patch.mplstyle.\n",
      "You probably need to get an updated matplotlibrc file from\n",
      "http://github.com/matplotlib/matplotlib/blob/master/matplotlibrc.template\n",
      "or from the matplotlib source distribution\n"
     ]
    }
   ],
   "source": [
    "#Import Packages \n",
    "import numpy as np \n",
    "import pandas as pd \n",
    "import matplotlib.pyplot as plt \n",
    "from sklearn.preprocessing import StandardScaler \n",
    "from sklearn.cluster import KMeans \n",
    "from sklearn.metrics import silhouette_score \n",
    "%matplotlib inline "
   ]
  },
  {
   "cell_type": "code",
   "execution_count": 2,
   "metadata": {},
   "outputs": [
    {
     "data": {
      "text/html": [
       "<div>\n",
       "<style scoped>\n",
       "    .dataframe tbody tr th:only-of-type {\n",
       "        vertical-align: middle;\n",
       "    }\n",
       "\n",
       "    .dataframe tbody tr th {\n",
       "        vertical-align: top;\n",
       "    }\n",
       "\n",
       "    .dataframe thead th {\n",
       "        text-align: right;\n",
       "    }\n",
       "</style>\n",
       "<table border=\"1\" class=\"dataframe\">\n",
       "  <thead>\n",
       "    <tr style=\"text-align: right;\">\n",
       "      <th></th>\n",
       "      <th>Unnamed: 0</th>\n",
       "      <th>Pu238</th>\n",
       "      <th>Pu239</th>\n",
       "      <th>Pu240</th>\n",
       "      <th>Pu241</th>\n",
       "    </tr>\n",
       "  </thead>\n",
       "  <tbody>\n",
       "    <tr>\n",
       "      <th>0</th>\n",
       "      <td>1</td>\n",
       "      <td>0.126</td>\n",
       "      <td>75.804</td>\n",
       "      <td>21.204</td>\n",
       "      <td>2.180</td>\n",
       "    </tr>\n",
       "    <tr>\n",
       "      <th>1</th>\n",
       "      <td>2</td>\n",
       "      <td>0.133</td>\n",
       "      <td>75.515</td>\n",
       "      <td>21.408</td>\n",
       "      <td>2.240</td>\n",
       "    </tr>\n",
       "    <tr>\n",
       "      <th>2</th>\n",
       "      <td>3</td>\n",
       "      <td>0.127</td>\n",
       "      <td>75.175</td>\n",
       "      <td>21.668</td>\n",
       "      <td>2.305</td>\n",
       "    </tr>\n",
       "    <tr>\n",
       "      <th>3</th>\n",
       "      <td>4</td>\n",
       "      <td>0.156</td>\n",
       "      <td>78.872</td>\n",
       "      <td>18.428</td>\n",
       "      <td>1.906</td>\n",
       "    </tr>\n",
       "    <tr>\n",
       "      <th>4</th>\n",
       "      <td>5</td>\n",
       "      <td>0.503</td>\n",
       "      <td>73.317</td>\n",
       "      <td>20.223</td>\n",
       "      <td>4.128</td>\n",
       "    </tr>\n",
       "  </tbody>\n",
       "</table>\n",
       "</div>"
      ],
      "text/plain": [
       "   Unnamed: 0  Pu238   Pu239   Pu240  Pu241\n",
       "0           1  0.126  75.804  21.204  2.180\n",
       "1           2  0.133  75.515  21.408  2.240\n",
       "2           3  0.127  75.175  21.668  2.305\n",
       "3           4  0.156  78.872  18.428  1.906\n",
       "4           5  0.503  73.317  20.223  4.128"
      ]
     },
     "execution_count": 2,
     "metadata": {},
     "output_type": "execute_result"
    }
   ],
   "source": [
    "#Read in CSV File \n",
    "csv_file = \"https://vincentarelbundock.github.io/Rdatasets/csv/cluster/pluton.csv\" \n",
    "df = pd.read_csv(csv_file) \n",
    "df.head() "
   ]
  },
  {
   "cell_type": "code",
   "execution_count": 3,
   "metadata": {},
   "outputs": [
    {
     "data": {
      "image/png": "[encoded data removed]",
      "text/plain": [
       "<Figure size 432x288 with 1 Axes>"
      ]
     },
     "metadata": {
      "needs_background": "light"
     },
     "output_type": "display_data"
    }
   ],
   "source": [
    "#Plot isotopes to see relationship \n",
    "plt.scatter(x = df['Pu238'], y = df['Pu239']);\n",
    "plt.title(\"Pu238 vs Pu239\")\n",
    "plt.ylabel(\"Pu239\")\n",
    "plt.xlabel(\"Pu238\");"
   ]
  },
  {
   "cell_type": "code",
   "execution_count": 5,
   "metadata": {},
   "outputs": [],
   "source": [
    "#Scale and Run Kmeans Model \n",
    "X = df[['Pu238', 'Pu239']] \n",
    "sc = StandardScaler() \n",
    "X_sc = sc.fit_transform(X) \n",
    "km = KMeans(n_clusters=3) \n",
    "km.fit(X_sc)\n",
    "df['cluster'] = km.labels_ "
   ]
  },
  {
   "cell_type": "code",
   "execution_count": 6,
   "metadata": {},
   "outputs": [
    {
     "data": {
      "image/png": "[encoded data removed]",
      "text/plain": [
       "<Figure size 432x288 with 1 Axes>"
      ]
     },
     "metadata": {
      "needs_background": "light"
     },
     "output_type": "display_data"
    }
   ],
   "source": [
    "#Plot clusters  \n",
    "def plot_clusters(df):     \n",
    "    color_dict = {0: 'navy', 1: 'green', 2: 'orange'}     \n",
    "    centroids = df.groupby('cluster').mean()     \n",
    "    df['cluster_color'] = df['cluster'].map(color_dict)     \n",
    "    centroids['cluster_color'] = centroids.index.map(color_dict)     \n",
    "    plt.scatter(df['Pu238'], df['Pu239'], color=df['cluster_color'], alpha=0.3)     \n",
    "    plt.scatter(centroids['Pu238'], centroids['Pu239'], color=centroids['cluster_color'], marker='*', s=200) \n",
    "    plt.title(\"Pu238 vs Pu239\")\n",
    "    plt.ylabel(\"Pu239\")\n",
    "    plt.xlabel(\"Pu238\")\n",
    "plot_clusters(df)"
   ]
  },
  {
   "cell_type": "code",
   "execution_count": 7,
   "metadata": {},
   "outputs": [
    {
     "name": "stdout",
     "output_type": "stream",
     "text": [
      "Silhouette score for Pu-238 and Pu-239 is 0.7138299182180218\n"
     ]
    }
   ],
   "source": [
    "#Compare silhouette score \n",
    "sil = silhouette_score(X_sc, km.labels_) \n",
    "print(\"Silhouette score for Pu-238 and Pu-239 is\",sil)"
   ]
  },
  {
   "cell_type": "code",
   "execution_count": 8,
   "metadata": {},
   "outputs": [
    {
     "data": {
      "image/png": "[encoded data removed]",
      "text/plain": [
       "<Figure size 432x288 with 1 Axes>"
      ]
     },
     "metadata": {
      "needs_background": "light"
     },
     "output_type": "display_data"
    }
   ],
   "source": [
    "#Plot isotopes to see relationship \n",
    "X = df[['Pu240', 'Pu239']] \n",
    "plt.scatter(x = df['Pu240'], y = df['Pu239']);\n",
    "plt.title(\"Pu240 vs Pu239\")\n",
    "plt.ylabel(\"Pu239\")\n",
    "plt.xlabel(\"Pu240\");"
   ]
  },
  {
   "cell_type": "code",
   "execution_count": 9,
   "metadata": {},
   "outputs": [],
   "source": [
    "#Scale and Run Kmeans Model \n",
    "sc = StandardScaler() \n",
    "X_sc = sc.fit_transform(X) \n",
    "km = KMeans(n_clusters=3) \n",
    "km.fit(X_sc)\n",
    "df['cluster'] = km.labels_ "
   ]
  },
  {
   "cell_type": "code",
   "execution_count": 10,
   "metadata": {},
   "outputs": [
    {
     "data": {
      "image/png": "[encoded data removed]",
      "text/plain": [
       "<Figure size 432x288 with 1 Axes>"
      ]
     },
     "metadata": {
      "needs_background": "light"
     },
     "output_type": "display_data"
    }
   ],
   "source": [
    "#Plot clusters  \n",
    "def plot_clusters(df):     \n",
    "    color_dict = {0: 'blue', 1: 'red', 2: 'purple'}     \n",
    "    centroids = df.groupby('cluster').mean()     \n",
    "    df['cluster_color'] = df['cluster'].map(color_dict)     \n",
    "    centroids['cluster_color'] = centroids.index.map(color_dict)     \n",
    "    plt.scatter(df['Pu240'], df['Pu239'], color=df['cluster_color'], alpha=0.3)     \n",
    "    plt.scatter(centroids['Pu240'], centroids['Pu239'], color=centroids['cluster_color'], marker='*', s=200) \n",
    "    plt.title(\"Pu240 vs Pu239\")\n",
    "    plt.ylabel(\"Pu239\")\n",
    "    plt.xlabel(\"Pu240\")\n",
    "plot_clusters(df)"
   ]
  },
  {
   "cell_type": "code",
   "execution_count": 11,
   "metadata": {},
   "outputs": [
    {
     "name": "stdout",
     "output_type": "stream",
     "text": [
      "Silhouette score for Pu-240 and Pu-239 is 0.633217477686232\n"
     ]
    }
   ],
   "source": [
    "#Compare silhouette score \n",
    "sil = silhouette_score(X_sc, km.labels_) \n",
    "print(\"Silhouette score for Pu-240 and Pu-239 is\",sil)"
   ]
  },
  {
   "cell_type": "code",
   "execution_count": 12,
   "metadata": {},
   "outputs": [
    {
     "data": {
      "image/png": "[encoded data removed]",
      "text/plain": [
       "<Figure size 432x288 with 1 Axes>"
      ]
     },
     "metadata": {
      "needs_background": "light"
     },
     "output_type": "display_data"
    }
   ],
   "source": [
    "#Plot isotopes to see relationship \n",
    "X = df[['Pu241', 'Pu239']] \n",
    "plt.scatter(x = df['Pu241'], y = df['Pu239']);\n",
    "plt.title(\"Pu241 vs Pu239\")\n",
    "plt.ylabel(\"Pu239\")\n",
    "plt.xlabel(\"Pu241\");"
   ]
  },
  {
   "cell_type": "code",
   "execution_count": 13,
   "metadata": {},
   "outputs": [],
   "source": [
    "#Scale and Run Kmeans Model \n",
    "sc = StandardScaler() \n",
    "X_sc = sc.fit_transform(X) \n",
    "km = KMeans(n_clusters=3) \n",
    "km.fit(X_sc)\n",
    "df['cluster'] = km.labels_"
   ]
  },
  {
   "cell_type": "code",
   "execution_count": 18,
   "metadata": {},
   "outputs": [
    {
     "data": {
      "image/png": "[encoded data removed]",
      "text/plain": [
       "<Figure size 432x288 with 1 Axes>"
      ]
     },
     "metadata": {
      "needs_background": "light"
     },
     "output_type": "display_data"
    }
   ],
   "source": [
    "#Plot clusters  \n",
    "def plot_clusters(df):     \n",
    "    color_dict = {0: 'magenta', 1: 'black', 2: 'blue'}     \n",
    "    centroids = df.groupby('cluster').mean()     \n",
    "    df['cluster_color'] = df['cluster'].map(color_dict)     \n",
    "    centroids['cluster_color'] = centroids.index.map(color_dict)     \n",
    "    plt.scatter(df['Pu241'], df['Pu239'], color=df['cluster_color'], alpha=0.3)     \n",
    "    plt.scatter(centroids['Pu241'], centroids['Pu239'], color=centroids['cluster_color'], marker='*', s=200) \n",
    "    plt.title(\"Pu241 vs Pu239\")\n",
    "    plt.ylabel(\"Pu239\")\n",
    "    plt.xlabel(\"Pu241\")\n",
    "plot_clusters(df)"
   ]
  },
  {
   "cell_type": "code",
   "execution_count": 15,
   "metadata": {},
   "outputs": [
    {
     "name": "stdout",
     "output_type": "stream",
     "text": [
      "Silhouette score for Pu-241 and Pu-239 is 0.6985505682786127\n"
     ]
    }
   ],
   "source": [
    "#Compare silhouette score \n",
    "sil = silhouette_score(X_sc, km.labels_) \n",
    "print(\"Silhouette score for Pu-241 and Pu-239 is\",sil)"
   ]
  },
  {
   "cell_type": "markdown",
   "metadata": {},
   "source": [
    "######Results/Summary: Pu-238 and Pu-241 appear to be the closest in space to Pu-239. Also, they have the lowest silhouette scores, meaning they are not as easily separable from Pu-239 which we want because we want them to be as similar as possible."
   ]
  },
  {
   "cell_type": "code",
   "execution_count": null,
   "metadata": {},
   "outputs": [],
   "source": []
  }
 ],
 "metadata": {
  "kernelspec": {
   "display_name": "Python 3",
   "language": "python",
   "name": "python3"
  },
  "language_info": {
   "codemirror_mode": {
    "name": "ipython",
    "version": 3
   },
   "file_extension": ".py",
   "mimetype": "text/x-python",
   "name": "python",
   "nbconvert_exporter": "python",
   "pygments_lexer": "ipython3",
   "version": "3.7.3"
  }
 },
 "nbformat": 4,
 "nbformat_minor": 2
}
